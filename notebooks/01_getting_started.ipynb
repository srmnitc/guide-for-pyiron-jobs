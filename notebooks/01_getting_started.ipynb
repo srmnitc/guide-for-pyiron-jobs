{
 "cells": [
  {
   "cell_type": "markdown",
   "id": "cf612e3a-4277-48a2-9ef5-89203b70087c",
   "metadata": {},
   "source": [
    "# pyiron jobs"
   ]
  },
  {
   "cell_type": "markdown",
   "id": "7a0eebc9-c8cb-4e3d-86c2-428580332fc3",
   "metadata": {},
   "source": [
    "In this guide, we discuss how `pyiron` jobs can be created. This is not a discussion on pyiron itself, we assume that you are familiar with pyiron usage and would like to integrate your custom code into `pyiron`. We will use the `simpledescent` code, which is included in the repository. \n",
    "\n",
    "There are various levels of integration possible, we will look through each of them."
   ]
  },
  {
   "cell_type": "markdown",
   "id": "087eedb0-0b00-4129-8620-937a25d548a1",
   "metadata": {},
   "source": [
    "## Our task"
   ]
  },
  {
   "cell_type": "markdown",
   "id": "9a9a9f82-be22-4ed3-9972-70c573c42c55",
   "metadata": {},
   "source": [
    "Our task is to integrate the `simpledescent` code. You can read more in `simpledescent/README.md`. First, let us look at what the code can do. We start by importing the minimise method."
   ]
  },
  {
   "cell_type": "code",
   "execution_count": 1,
   "id": "5c010974-23f6-4485-85dc-a69a0f108b23",
   "metadata": {},
   "outputs": [],
   "source": [
    "from simpledescent.minimise import Minimisation"
   ]
  },
  {
   "cell_type": "markdown",
   "id": "4fbd906e-63c4-4a57-9334-79c4cac00d8d",
   "metadata": {},
   "source": [
    "Now we find the minimum of a 2D Well potential"
   ]
  },
  {
   "cell_type": "code",
   "execution_count": 2,
   "id": "79d1b674-c8f7-457d-ae8b-da819b354baa",
   "metadata": {},
   "outputs": [
    {
     "name": "stdout",
     "output_type": "stream",
     "text": [
      "Reached threshold\n"
     ]
    },
    {
     "data": {
      "text/plain": [
       "[-0.3995746868373576, 2e-323]"
      ]
     },
     "execution_count": 2,
     "metadata": {},
     "output_type": "execute_result"
    }
   ],
   "source": [
    "mini = Minimisation()\n",
    "mini.minimise([-0.75, 0.25], learning_rate=0.002)"
   ]
  },
  {
   "cell_type": "markdown",
   "id": "1180a46e-09bb-4507-9a8c-351090e617f7",
   "metadata": {},
   "source": [
    "As we can see there is one necessary input parameter: the initial position. In the above example, it is `[-0.75, 0.25]`. Additionally there is an optional parameter used: `learning_rate`. There are more parameters possible, but we will look at it later."
   ]
  },
  {
   "cell_type": "markdown",
   "id": "b714d2c3-fab0-4782-8c9d-54851fb5525b",
   "metadata": {},
   "source": [
    "Our toycode also has a command line interface. \n",
    "\n",
    "```\n",
    "simpledescent --position -0.75 0.25 --lrate 0.002\n",
    "```\n",
    "\n",
    "does the same thing as the python code."
   ]
  },
  {
   "cell_type": "markdown",
   "id": "753a2de0-7a8e-46a0-bfc2-daebb4106aa1",
   "metadata": {},
   "source": [
    "## Why create a pyiron job?"
   ]
  },
  {
   "cell_type": "markdown",
   "id": "55ee4300-33a9-4f1b-8ae5-7845cd483c07",
   "metadata": {},
   "source": [
    "Well, we will see.."
   ]
  },
  {
   "cell_type": "markdown",
   "id": "8e383de0-a65b-4c8e-b1c4-61e5640c45c4",
   "metadata": {},
   "source": [
    "## Template Job"
   ]
  },
  {
   "cell_type": "markdown",
   "id": "497a9574-aed9-4326-9b9a-0fbaae3816d9",
   "metadata": {},
   "source": [
    "Template job is the simplest level of integration possible. For this, we will use the command line interface. "
   ]
  },
  {
   "cell_type": "markdown",
   "id": "dcacb11b-953b-47d0-9270-23478dbe41e1",
   "metadata": {},
   "source": [
    "We start with imports"
   ]
  },
  {
   "cell_type": "code",
   "execution_count": 3,
   "id": "671a023e-65b2-4fed-8bf7-3348978061f1",
   "metadata": {},
   "outputs": [
    {
     "name": "stderr",
     "output_type": "stream",
     "text": [
      "2023-01-26 18:12:19,721 - pyiron_log - WARNING - Configuration file may be read by others - check permissions to secure credential information!\n"
     ]
    }
   ],
   "source": [
    "from pyiron_base import TemplateJob, Project"
   ]
  },
  {
   "cell_type": "code",
   "execution_count": 4,
   "id": "56966797-1e51-42a0-9567-2e70eb2d311c",
   "metadata": {},
   "outputs": [],
   "source": [
    "import os"
   ]
  },
  {
   "cell_type": "markdown",
   "id": "9f67d461-b143-4d31-b6bd-859335f58a81",
   "metadata": {},
   "source": [
    "Now lets define a Job class. To start:"
   ]
  },
  {
   "cell_type": "code",
   "execution_count": 5,
   "id": "d573bff5-36be-4082-b54f-ac75edcde65f",
   "metadata": {},
   "outputs": [],
   "source": [
    "class SimpleDescent(TemplateJob):\n",
    "    def __init__(self, project, job_name):\n",
    "        super().__init__(project, job_name)\n",
    "        \n",
    "        #now we add inputs\n",
    "        self.input[\"initial_position\"] = [-0.75, 0.25]\n",
    "        self.input[\"learning_rate\"] = 0.002\n",
    "        \n",
    "        #now we add the executable\n",
    "        self.executable = f'simpledescent --position {self.input[\"initial_position\"][0]} {self.input[\"initial_position\"][1]} > res.out'"
   ]
  },
  {
   "cell_type": "markdown",
   "id": "89509d6e-1766-4828-8161-fb26e4eafb29",
   "metadata": {},
   "source": [
    "The constructor should take `project` and `job_name` as arguments. Afterwards, the input parameters are defined in the form of dictionary. Finally, the executable is defined. In the executable we defined to pipe the out to a file called `res.out`. The `res.out` file should look something like this:\n",
    "\n",
    "```\n",
    "Reached threshold\n",
    "[-0.3995746868373576, 2e-323]\n",
    "```"
   ]
  },
  {
   "cell_type": "markdown",
   "id": "9734d9d9-8032-41cd-bc87-779cbc3d9b90",
   "metadata": {},
   "source": [
    "In order to store the results within pyiron, we need to parse the output. The file will be created in the working directory of the job. This can be accessed in the job through `self.working_directory`. Then, the output can be collected using the `collect_output` method. Let's implement this:"
   ]
  },
  {
   "cell_type": "code",
   "execution_count": 6,
   "id": "80a2fcc4-9a6a-47b8-bdb4-a2cb6c2df856",
   "metadata": {},
   "outputs": [],
   "source": [
    "class SimpleDescent(TemplateJob):\n",
    "    def __init__(self, project, job_name):\n",
    "        super().__init__(project, job_name)\n",
    "        \n",
    "        #now we add inputs\n",
    "        self.input[\"initial_position\"] = [-0.75, 0.25]\n",
    "        self.input[\"learning_rate\"] = 0.002\n",
    "        \n",
    "        #now we add the executable\n",
    "        self.executable = f'simpledescent --position {self.input[\"initial_position\"][0]} {self.input[\"initial_position\"][1]} > res.out'\n",
    "        \n",
    "    def collect_output(self):\n",
    "        file = os.path.join(self.working_directory, \"res.out\")\n",
    "        result = []\n",
    "        with open(file, \"r\") as fin:\n",
    "            for line in fin:\n",
    "                #we split each line and add\n",
    "                result.append(line.split())\n",
    "        #the output we want is in line number 1\n",
    "        self.output[\"final_position\"] = [float(result[1][0]), float(result[1][1])]"
   ]
  },
  {
   "cell_type": "code",
   "execution_count": 7,
   "id": "077bee47-7db8-416d-966d-e5b0d4a5a232",
   "metadata": {},
   "outputs": [],
   "source": [
    "pr = Project(\"s1\")"
   ]
  },
  {
   "cell_type": "code",
   "execution_count": 8,
   "id": "693d96ec-49b1-4af9-89d4-70490051f15a",
   "metadata": {},
   "outputs": [],
   "source": [
    "job = pr.create_job(job_type=SimpleDescent, job_name=\"a1\", delete_existing_job=True)"
   ]
  },
  {
   "cell_type": "code",
   "execution_count": 9,
   "id": "a12e9581-0584-4cd2-8bee-9705ad76df5e",
   "metadata": {
    "tags": []
   },
   "outputs": [
    {
     "name": "stdout",
     "output_type": "stream",
     "text": [
      "The job a1 was saved and received the ID: 34\n"
     ]
    }
   ],
   "source": [
    "job.run()"
   ]
  },
  {
   "cell_type": "code",
   "execution_count": 10,
   "id": "88977cd2-1649-4a99-8983-abdad7d3eb21",
   "metadata": {},
   "outputs": [
    {
     "data": {
      "application/json": {
       "final_position": "[-0.3995746868373576, 2e-323]"
      },
      "text/html": [
       "<pre>DataContainer({\n",
       "  \"final_position\": \"[-0.3995746868373576, 2e-323]\"\n",
       "})</pre>"
      ],
      "text/plain": [
       "DataContainer({'final_position': [-0.3995746868373576, 2e-323]})"
      ]
     },
     "execution_count": 10,
     "metadata": {},
     "output_type": "execute_result"
    }
   ],
   "source": [
    "job.output"
   ]
  },
  {
   "cell_type": "markdown",
   "id": "3b5d604b-a7bc-4425-b291-c83792d07028",
   "metadata": {},
   "source": [
    "Now we need to add "
   ]
  },
  {
   "cell_type": "code",
   "execution_count": null,
   "id": "b368c5b4-d030-46b7-b235-cb6f277f6f25",
   "metadata": {},
   "outputs": [],
   "source": []
  }
 ],
 "metadata": {
  "kernelspec": {
   "display_name": "Python 3 (ipykernel)",
   "language": "python",
   "name": "python3"
  },
  "language_info": {
   "codemirror_mode": {
    "name": "ipython",
    "version": 3
   },
   "file_extension": ".py",
   "mimetype": "text/x-python",
   "name": "python",
   "nbconvert_exporter": "python",
   "pygments_lexer": "ipython3",
   "version": "3.8.13"
  }
 },
 "nbformat": 4,
 "nbformat_minor": 5
}
